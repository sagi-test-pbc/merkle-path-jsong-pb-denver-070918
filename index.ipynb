{
 "cells": [
  {
   "cell_type": "markdown",
   "metadata": {},
   "source": [
    "# Merkle Paths"
   ]
  },
  {
   "cell_type": "code",
   "execution_count": null,
   "metadata": {},
   "outputs": [],
   "source": [
    "# Merkle Path Example\n",
    "\n",
    "import math\n",
    "\n",
    "total_levels = math.ceil(math.log(16, 2))\n",
    "merkle_path = []\n",
    "index = 10\n",
    "for i in range(total_levels):\n",
    "    merkle_path.append(index)\n",
    "    index = index // 2\n",
    "print(merkle_path)"
   ]
  },
  {
   "cell_type": "markdown",
   "metadata": {},
   "source": [
    "### Try it\n",
    "\n",
    "#### Get the Merkle Path for an item at index 13 (0-base) in 27 items."
   ]
  },
  {
   "cell_type": "code",
   "execution_count": null,
   "metadata": {},
   "outputs": [],
   "source": [
    "import math\n",
    "\n",
    "num_items = 27\n",
    "index = 13\n",
    "\n",
    "# get the total number of levels possible (math.ceil(math.log(num_items, 2)))\n",
    "# initialize merkle path array\n",
    "# loop through number of levels\n",
    "    # add the index to merkle path\n",
    "    # index integer div by 2 to get the index at the next level\n",
    "# print merkle path"
   ]
  },
  {
   "cell_type": "markdown",
   "metadata": {},
   "source": [
    "### Test Driven Exercise"
   ]
  },
  {
   "cell_type": "code",
   "execution_count": null,
   "metadata": {},
   "outputs": [],
   "source": [
    "def merkle_path(index, total):\n",
    "    '''Returns a list of indexes up the merkle tree of the node at index if\n",
    "    there are a total number of nodes'''\n",
    "    # initialize the path\n",
    "    # calculate number of levels (math.ceil(math.log(total, 2)))\n",
    "    # loop through each level\n",
    "        # add the index to path\n",
    "        # index becomes integer divide by 2 (use: index = index // 2)\n",
    "    # return the path\n",
    "    pass"
   ]
  }
 ],
 "metadata": {
  "kernelspec": {
   "display_name": "Python 3",
   "language": "python",
   "name": "python3"
  },
  "language_info": {
   "codemirror_mode": {
    "name": "ipython",
    "version": 3
   },
   "file_extension": ".py",
   "mimetype": "text/x-python",
   "name": "python",
   "nbconvert_exporter": "python",
   "pygments_lexer": "ipython3",
   "version": "3.6.4"
  }
 },
 "nbformat": 4,
 "nbformat_minor": 2
}
